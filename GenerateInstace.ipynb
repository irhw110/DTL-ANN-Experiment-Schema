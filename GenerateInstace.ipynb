{
 "cells": [
  {
   "cell_type": "code",
   "execution_count": 7,
   "metadata": {},
   "outputs": [],
   "source": [
    "# import needed library\n",
    "from sklearn.datasets import load_iris\n",
    "import pandas as pd\n",
    "import random"
   ]
  },
  {
   "cell_type": "code",
   "execution_count": 47,
   "metadata": {},
   "outputs": [],
   "source": [
    "# Generate n instance like iris dataset\n",
    "# return new n instance as new dataframe\n",
    "def generateIris(n):\n",
    "    a = []\n",
    "    b = []\n",
    "    c = []\n",
    "    d = []\n",
    "    for i in range(n):\n",
    "        a.append(random.uniform(4.5, 7.5))\n",
    "        b.append(random.uniform(2, 4.4))\n",
    "        c.append(random.uniform(1, 6.9))\n",
    "        d.append(random.uniform(0.1, 2.5))\n",
    "    iris = {'sepal length (cm)': a,\n",
    "            'sepal width (cm)': b,\n",
    "            'petal length (cm)':c,\n",
    "            'petal width (cm)':d\n",
    "            }\n",
    "    return pd.DataFrame(iris, columns = ['sepal length (cm)', 'sepal width (cm)','petal length (cm)','petal width (cm)'])"
   ]
  },
  {
   "cell_type": "code",
   "execution_count": 48,
   "metadata": {},
   "outputs": [],
   "source": [
    "x = generateIris(100)"
   ]
  },
  {
   "cell_type": "code",
   "execution_count": null,
   "metadata": {},
   "outputs": [],
   "source": []
  }
 ],
 "metadata": {
  "kernelspec": {
   "display_name": "Python 3",
   "language": "python",
   "name": "python3"
  },
  "language_info": {
   "codemirror_mode": {
    "name": "ipython",
    "version": 3
   },
   "file_extension": ".py",
   "mimetype": "text/x-python",
   "name": "python",
   "nbconvert_exporter": "python",
   "pygments_lexer": "ipython3",
   "version": "3.6.5"
  }
 },
 "nbformat": 4,
 "nbformat_minor": 2
}
